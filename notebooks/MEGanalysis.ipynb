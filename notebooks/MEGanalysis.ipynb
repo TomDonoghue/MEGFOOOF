{
 "cells": [
  {
   "cell_type": "markdown",
   "metadata": {},
   "source": [
    "## MEG Group Analysis\n",
    "\n",
    "Group analysis for MEG data, for the FOOOF paper. \n",
    "\n",
    "The Data Source is from the \n",
    "[Human Connectome Project](https://www.humanconnectome.org/)\n",
    "\n",
    "This notebook is for group analysis of MEG data using the \n",
    "[omapping](https://github.com/voytekresearch/omapping) module. "
   ]
  },
  {
   "cell_type": "code",
   "execution_count": 1,
   "metadata": {},
   "outputs": [],
   "source": [
    "%matplotlib inline\n",
    "\n",
    "from scipy.io import loadmat\n",
    "from scipy.stats.stats import pearsonr\n",
    "\n",
    "from om.meg.single import MegSubj\n",
    "from om.meg.single import print_corrs_mat, print_corrs_vec\n",
    "from om.meg.group import MegGroup\n",
    "from om.meg.group import osc_space_group\n",
    "\n",
    "from om.plts.meg import *\n",
    "\n",
    "from om.core.db import OMDB\n",
    "from om.core.osc import Osc\n",
    "from om.core.io import load_obj_pickle, save_obj_pickle"
   ]
  },
  {
   "cell_type": "markdown",
   "metadata": {},
   "source": [
    "## Settings"
   ]
  },
  {
   "cell_type": "code",
   "execution_count": 18,
   "metadata": {},
   "outputs": [],
   "source": [
    "SAVE_FIG = False"
   ]
  },
  {
   "cell_type": "markdown",
   "metadata": {},
   "source": [
    "### Setup"
   ]
  },
  {
   "cell_type": "code",
   "execution_count": 4,
   "metadata": {},
   "outputs": [],
   "source": [
    "# Get database object\n",
    "db = OMDB()"
   ]
  },
  {
   "cell_type": "code",
   "execution_count": 5,
   "metadata": {},
   "outputs": [
    {
     "name": "stdout",
     "output_type": "stream",
     "text": [
      "\n",
      "Number of Subjects available: 81\n",
      "\n",
      "Subject numbers with FOOOF data available: \n",
      "[162026, 153732, 172029, 175540, 825048, 187547, 102816, 512835, 174841, 109123, 164636, 660951, 352132, 250427, 100307, 166438, 221319, 917255, 111514, 158136, 214524, 706040, 283543, 106521, 156334, 559053, 198653, 181232, 212318, 205119, 725751, 581450, 255639, 248339, 195041, 293748, 665254, 191841, 116726, 667056, 352738, 891667, 212823, 140117, 353740, 287248, 898176, 715950, 105923, 185442, 990366, 877168, 154532, 233326, 601127, 599671, 189349, 204521, 679770, 406836, 257845, 112920, 735148, 568963, 116524, 113922, 912447, 162935, 358144, 707749, 223929, 192641, 191437, 814649, 175237, 783462, 555348, 191033, 146129, 662551, 433839]\n",
      "\n"
     ]
    }
   ],
   "source": [
    "# Check what data is available\n",
    "#  Note: this function outa date (checks the wrong file folder)\n",
    "sub_nums, source = db.check_data_files(dat_type='fooof', dat_source='HCP', verbose=True)\n",
    "\n",
    "# Drop outlier subject\n",
    "sub_nums = list(set(sub_nums) - set([662551]))"
   ]
  },
  {
   "cell_type": "markdown",
   "metadata": {},
   "source": [
    "### Oscillation Band Definitions"
   ]
  },
  {
   "cell_type": "code",
   "execution_count": 7,
   "metadata": {},
   "outputs": [],
   "source": [
    "# Set up oscillation band definitions to use\n",
    "bands = Osc()\n",
    "bands.add_band('Theta', [3, 7])\n",
    "bands.add_band('Alpha', [7, 14])\n",
    "bands.add_band('Beta', [15, 30])"
   ]
  },
  {
   "cell_type": "markdown",
   "metadata": {},
   "source": [
    "### Load Data"
   ]
  },
  {
   "cell_type": "code",
   "execution_count": 8,
   "metadata": {},
   "outputs": [],
   "source": [
    "# Initialize MegGroup object\n",
    "meg_group = MegGroup(db, osc)\n",
    "\n",
    "# Add subjects to meg_group\n",
    "for i, subj in enumerate(sub_nums):\n",
    "    meg_subj = MegSubj(OMDB(), source[i], osc)         # Initialize MegSubj object\n",
    "    meg_subj.import_fooof(subj, get_demo=True)         # Import subject data\n",
    "    meg_subj.all_oscs(verbose=False)                   # Create vectors of all oscillations\n",
    "    meg_subj.osc_bands_vertex()                        # Get oscillations per band per vertex\n",
    "    meg_subj.peak_freq(dat='all', avg='mean')       # Calculate peak frequencies\n",
    "    meg_group.add_subject(meg_subj,                    # Add subject data to group object\n",
    "                          add_all_oscs=True,               # Whether to include all-osc data\n",
    "                          add_vertex_bands=True,           # Whether to include osc-band-vertex data\n",
    "                          add_peak_freqs=True,             # Whether to include peak frequency data\n",
    "                          add_vertex_oscs=False,           # Whether to include all-osc data for each vertex\n",
    "                          add_vertex_exponents=True,       # Whether to include the aperiodic exponent per vertex\n",
    "                          add_demo=True)                   # Whether to include demographic information"
   ]
  },
  {
   "cell_type": "code",
   "execution_count": 9,
   "metadata": {},
   "outputs": [
    {
     "name": "stdout",
     "output_type": "stream",
     "text": [
      "\n",
      "Number of files available: 0\n",
      "\n",
      "Files available: \n",
      "\n",
      "\n"
     ]
    }
   ],
   "source": [
    "# OR: Check available saved files to load one of them\n",
    "meg_files = db.check_res_files('meg')"
   ]
  },
  {
   "cell_type": "code",
   "execution_count": 10,
   "metadata": {},
   "outputs": [],
   "source": [
    "# Load a pickled file\n",
    "#meg_group = load_obj_pickle('meg', meg_files[2])"
   ]
  },
  {
   "cell_type": "markdown",
   "metadata": {},
   "source": [
    "### Data Explorations"
   ]
  },
  {
   "cell_type": "code",
   "execution_count": 11,
   "metadata": {},
   "outputs": [
    {
     "name": "stdout",
     "output_type": "stream",
     "text": [
      "Currently analyzing 80 subjects.\n"
     ]
    }
   ],
   "source": [
    "# Check how many subjects group includes\n",
    "print('Currently analyzing ' + str(meg_group.n_subjs) + ' subjects.')"
   ]
  },
  {
   "cell_type": "code",
   "execution_count": 12,
   "metadata": {},
   "outputs": [
    {
     "name": "stdout",
     "output_type": "stream",
     "text": [
      "# of Females:\t 35\n",
      "# of Females:\t 45\n"
     ]
    }
   ],
   "source": [
    "# Check data descriptions - sex\n",
    "print('# of Females:\\t', sum(np.array(meg_group.sex) == 'F'))\n",
    "print('# of Females:\\t', sum(np.array(meg_group.sex) == 'M'))"
   ]
  },
  {
   "cell_type": "code",
   "execution_count": 13,
   "metadata": {},
   "outputs": [
    {
     "name": "stdout",
     "output_type": "stream",
     "text": [
      "Number of oscillations found across the whole group: \t 2499704\n",
      "Average number of oscillations per vertex: \t\t 4.17\n"
     ]
    }
   ],
   "source": [
    "# Check some simple descriptives\n",
    "print('Number of oscillations found across the whole group: \\t', meg_group.n_oscs_tot)\n",
    "print('Average number of oscillations per vertex: \\t\\t {:1.2f}'.format(np.mean(meg_group.n_oscs / 7501)))"
   ]
  },
  {
   "cell_type": "code",
   "execution_count": 16,
   "metadata": {},
   "outputs": [
    {
     "data": {
      "image/png": "[encoded data removed]",
      "text/plain": [
       "<Figure size 1080x1080 with 3 Axes>"
      ]
     },
     "metadata": {
      "needs_background": "light"
     },
     "output_type": "display_data"
    }
   ],
   "source": [
    "# Plot all oscillations across the group\n",
    "plot_all_oscs(meg_group.centers_all, meg_group.powers_all, meg_group.bws_all,\n",
    "              meg_group.comment, save_out=SAVE_FIG)"
   ]
  },
  {
   "cell_type": "markdown",
   "metadata": {},
   "source": [
    "### Save out probabilities per frequency range\n",
    "\n",
    "...."
   ]
  },
  {
   "cell_type": "code",
   "execution_count": 17,
   "metadata": {},
   "outputs": [
    {
     "name": "stdout",
     "output_type": "stream",
     "text": [
      "1698\n",
      "130\n"
     ]
    }
   ],
   "source": [
    "# Check for oscillations above / below fitting range\n",
    "#   Note: this is a quirk of older FOOOF version - fixed in fitting now\n",
    "print(len(meg_group.centers_all[meg_group.centers_all < 2]))\n",
    "print(len(meg_group.centers_all[meg_group.centers_all > 40]))"
   ]
  },
  {
   "cell_type": "code",
   "execution_count": 18,
   "metadata": {},
   "outputs": [],
   "source": [
    "# Calculate probability of observing an oscillation in each frequency\n",
    "bins = np.arange(0, 43, 1)\n",
    "counts, freqs = np.histogram(meg_group.centers_all, bins=bins)\n",
    "probs = counts / meg_group.n_oscs_tot"
   ]
  },
  {
   "cell_type": "code",
   "execution_count": 19,
   "metadata": {},
   "outputs": [],
   "source": [
    "# Fix for the oscillation out of range\n",
    "add = sum(probs[0:3]) + sum(probs[35:])\n",
    "\n",
    "freqs = freqs[3:35]\n",
    "probs = probs[3:35]\n",
    "probs = probs + (add/len(probs))"
   ]
  },
  {
   "cell_type": "code",
   "execution_count": 20,
   "metadata": {},
   "outputs": [],
   "source": [
    "# np.save('freqs.npy', freqs)\n",
    "# np.save('probs.npy', probs)"
   ]
  },
  {
   "cell_type": "markdown",
   "metadata": {
    "collapsed": true
   },
   "source": [
    "## BACK TO NORMAL PROGRAMMING"
   ]
  },
  {
   "cell_type": "code",
   "execution_count": 20,
   "metadata": {},
   "outputs": [
    {
     "name": "stdout",
     "output_type": "stream",
     "text": [
      "0.002132252458691109\n",
      "0.18261122116858636\n"
     ]
    }
   ],
   "source": [
    "# ??\n",
    "print(sum(meg_group.powers_all < 0.05) / len(meg_group.powers_all))\n",
    "print(sum(meg_group.bws_all < 1.0001) / len(meg_group.bws_all))"
   ]
  },
  {
   "cell_type": "code",
   "execution_count": 23,
   "metadata": {},
   "outputs": [
    {
     "data": {
      "image/png": "[encoded data removed]",
      "text/plain": [
       "<Figure size 1080x360 with 1 Axes>"
      ]
     },
     "metadata": {
      "needs_background": "light"
     },
     "output_type": "display_data"
    }
   ],
   "source": [
    "# Plot a single oscillation parameter at a time\n",
    "plot_all_oscs_single(meg_group.centers_all, 0, meg_group.comment,\n",
    "                     n_bins=150, figsize=(15, 5))\n",
    "\n",
    "if True:\n",
    "    plt.savefig('meg-osc-centers.pdf', bbox_inches='tight')"
   ]
  },
  {
   "cell_type": "markdown",
   "metadata": {},
   "source": [
    "### Exponents"
   ]
  },
  {
   "cell_type": "code",
   "execution_count": 27,
   "metadata": {},
   "outputs": [
    {
     "data": {
      "image/png": "[encoded data removed]",
      "text/plain": [
       "<Figure size 432x288 with 1 Axes>"
      ]
     },
     "metadata": {
      "needs_background": "light"
     },
     "output_type": "display_data"
    }
   ],
   "source": [
    "# Plot distribution of all aperiodic exponents\n",
    "plot_exponents(meg_group.exponents, meg_group.comment, save_out=SAVE_FIG)"
   ]
  },
  {
   "cell_type": "code",
   "execution_count": 28,
   "metadata": {},
   "outputs": [
    {
     "name": "stdout",
     "output_type": "stream",
     "text": [
      "Global mean exponent value is: \t0.8276 with st. dev of 0.2279\n"
     ]
    }
   ],
   "source": [
    "# Check the global mean exponent value\n",
    "print('Global mean exponent value is: \\t{:1.4f} with st. dev of {:1.4f}'\\\n",
    "      .format(np.mean(meg_group.exponents), np.std(meg_group.exponents)))"
   ]
  },
  {
   "cell_type": "code",
   "execution_count": 29,
   "metadata": {},
   "outputs": [],
   "source": [
    "# Calculate Average Aperiodic Exponent value per Vertex\n",
    "meg_group.group_exponent(avg='mean')"
   ]
  },
  {
   "cell_type": "code",
   "execution_count": 30,
   "metadata": {},
   "outputs": [],
   "source": [
    "# Save out group exponent results\n",
    "#meg_group.save_gr_exponent(file_name='json')"
   ]
  },
  {
   "cell_type": "code",
   "execution_count": 31,
   "metadata": {},
   "outputs": [],
   "source": [
    "# Set group exponent results for visualization with Brainstorm\n",
    "#meg_group.set_exponent_viz()"
   ]
  },
  {
   "cell_type": "markdown",
   "metadata": {},
   "source": [
    "### Oscillation Topographies"
   ]
  },
  {
   "cell_type": "markdown",
   "metadata": {},
   "source": [
    "##### Oscillation Probability"
   ]
  },
  {
   "cell_type": "code",
   "execution_count": 32,
   "metadata": {},
   "outputs": [],
   "source": [
    "# Calculate probability of oscilation (band specific) across the cortex\n",
    "meg_group.osc_prob()"
   ]
  },
  {
   "cell_type": "code",
   "execution_count": 33,
   "metadata": {},
   "outputs": [
    {
     "name": "stdout",
     "output_type": "stream",
     "text": [
      "Corr of  Theta-Alpha         is  -0.6736     with p-val of  0.00000\n",
      "Corr of  Theta-Beta          is  -0.3084     with p-val of  0.00000\n",
      "Corr of  Alpha-Beta          is  +0.2005     with p-val of  0.00000\n"
     ]
    }
   ],
   "source": [
    "# Correlations between probabilities of oscillatory bands. \n",
    "prob_rs, prob_ps, prob_labels = meg_group.osc_map_corrs(map_type='prob')\n",
    "print_corrs_mat(prob_rs, prob_ps, prob_labels)"
   ]
  },
  {
   "cell_type": "code",
   "execution_count": 38,
   "metadata": {},
   "outputs": [],
   "source": [
    "# Plot the oscillation probability correlation matrix\n",
    "#plot_corr_matrix(prob_rs, osc.labels, save_out=SAVE_FIG)"
   ]
  },
  {
   "cell_type": "code",
   "execution_count": 39,
   "metadata": {},
   "outputs": [],
   "source": [
    "# Save group oscillation probability data for visualization with Brainstorm\n",
    "meg_group.set_map_viz(map_type='prob', file_name='json')"
   ]
  },
  {
   "cell_type": "code",
   "execution_count": 40,
   "metadata": {},
   "outputs": [],
   "source": [
    "# Save group oscillation probability data out to npz file\n",
    "#meg_group.save_map(map_type='prob', file_name='json')"
   ]
  },
  {
   "cell_type": "markdown",
   "metadata": {},
   "source": [
    "##### Oscillation Power Ratio"
   ]
  },
  {
   "cell_type": "code",
   "execution_count": 41,
   "metadata": {},
   "outputs": [],
   "source": [
    "# Calculate power ratio of oscilation (band specific) across the cortex\n",
    "meg_group.osc_power()"
   ]
  },
  {
   "cell_type": "code",
   "execution_count": 42,
   "metadata": {},
   "outputs": [
    {
     "name": "stdout",
     "output_type": "stream",
     "text": [
      "Corr of  Theta-Alpha         is  -0.5050     with p-val of  0.00000\n",
      "Corr of  Theta-Beta          is  -0.4081     with p-val of  0.00000\n",
      "Corr of  Alpha-Beta          is  +0.7794     with p-val of  0.00000\n"
     ]
    }
   ],
   "source": [
    "# Correlations between probabilities of oscillatory bands. \n",
    "power_rs, power_ps, power_labels = meg_group.osc_map_corrs(map_type='power')\n",
    "print_corrs_mat(power_rs, power_ps, power_labels)"
   ]
  },
  {
   "cell_type": "code",
   "execution_count": 53,
   "metadata": {},
   "outputs": [],
   "source": [
    "# Plot the oscillation probability correlation matrix\n",
    "#plot_corr_matrix(power_rs, osc.labels, save_out=SAVE_FIG)"
   ]
  },
  {
   "cell_type": "code",
   "execution_count": 54,
   "metadata": {},
   "outputs": [],
   "source": [
    "# Save group oscillation probability data for visualization with Brainstorm\n",
    "meg_group.set_map_viz(map_type='power', file_name='json')"
   ]
  },
  {
   "cell_type": "code",
   "execution_count": 55,
   "metadata": {},
   "outputs": [],
   "source": [
    "# Save group oscillation probability data out to npz file\n",
    "#meg_group.save_map(map_type='power', file_name='json')"
   ]
  },
  {
   "cell_type": "markdown",
   "metadata": {},
   "source": [
    "##### Oscillation Score"
   ]
  },
  {
   "cell_type": "code",
   "execution_count": 50,
   "metadata": {},
   "outputs": [],
   "source": [
    "# Calculate oscillation score\n",
    "meg_group.osc_score()"
   ]
  },
  {
   "cell_type": "code",
   "execution_count": 51,
   "metadata": {},
   "outputs": [],
   "source": [
    "# Save group oscillation probability data for visualization with Brainstorm\n",
    "#meg_group.set_map_viz(map_type='score', file_name='json')"
   ]
  },
  {
   "cell_type": "code",
   "execution_count": 52,
   "metadata": {},
   "outputs": [],
   "source": [
    "# Save group oscillation score data out to npz file\n",
    "#meg_group.save_map(map_type='score', file_name='80_new_group')"
   ]
  },
  {
   "cell_type": "code",
   "execution_count": 53,
   "metadata": {},
   "outputs": [
    {
     "name": "stdout",
     "output_type": "stream",
     "text": [
      "Corr of  Theta-Alpha         is  -0.5971     with p-val of  0.00000\n",
      "Corr of  Theta-Beta          is  -0.4088     with p-val of  0.00000\n",
      "Corr of  Alpha-Beta          is  +0.7214     with p-val of  0.00000\n"
     ]
    }
   ],
   "source": [
    "# Correlations between osc-scores of oscillatory bands.\n",
    "score_rs, score_ps, score_labels = meg_group.osc_map_corrs(map_type='score')\n",
    "print_corrs_mat(score_rs, score_ps, score_labels)"
   ]
  },
  {
   "cell_type": "code",
   "execution_count": 54,
   "metadata": {},
   "outputs": [],
   "source": [
    "# Plot the oscillation score correlation matrix\n",
    "#plot_corr_matrix(score_rs, osc.labels, save_out=SAVE_FIG)"
   ]
  },
  {
   "cell_type": "code",
   "execution_count": 55,
   "metadata": {},
   "outputs": [],
   "source": [
    "# Save out pickle file of current MegGroup() object\n",
    "#save_obj_pickle(meg_group, 'meg', 'test')"
   ]
  },
  {
   "cell_type": "markdown",
   "metadata": {},
   "source": [
    "#### Check correlation of aperiodic exponent with oscillation bands"
   ]
  },
  {
   "cell_type": "code",
   "execution_count": 56,
   "metadata": {},
   "outputs": [],
   "source": [
    "n_bands = len(meg_group.bands)\n",
    "exp_rs = np.zeros(shape=[n_bands])\n",
    "exp_ps = np.zeros(shape=[n_bands])\n",
    "for ind, band in enumerate(meg_group.bands):\n",
    "    r_val, p_val = pearsonr(meg_group.exponent_gr_avg, meg_group.osc_scores[band])\n",
    "    exp_rs[ind] = r_val\n",
    "    exp_ps[ind] = p_val"
   ]
  },
  {
   "cell_type": "code",
   "execution_count": 57,
   "metadata": {},
   "outputs": [
    {
     "name": "stdout",
     "output_type": "stream",
     "text": [
      "Corr of Theta-Exp \t is -0.30 \t with p-val of 0.00\n",
      "Corr of Alpha-Exp \t is 0.83 \t with p-val of 0.00\n",
      "Corr of Beta-Exp \t is 0.54 \t with p-val of 0.00\n"
     ]
    }
   ],
   "source": [
    "for rv, pv, label in zip(exp_rs, exp_ps, ['Theta', 'Alpha', 'Beta']):\n",
    "    print('Corr of {}-Exp \\t is {:1.2f} \\t with p-val of {:1.2f}'.format(label, rv, pv))"
   ]
  },
  {
   "cell_type": "markdown",
   "metadata": {},
   "source": [
    "#### Plot corr matrix including bands & exponents"
   ]
  },
  {
   "cell_type": "code",
   "execution_count": 58,
   "metadata": {},
   "outputs": [],
   "source": [
    "all_rs = np.zeros(shape=[n_bands+1, n_bands+1])\n",
    "all_rs[0:n_bands, 0:n_bands] = score_rs\n",
    "\n",
    "all_rs[n_bands, 0:n_bands] = exp_rs\n",
    "all_rs[0:n_bands, n_bands] = exp_rs;\n",
    "\n",
    "from copy import deepcopy\n",
    "all_labels = deepcopy(osc.labels)\n",
    "all_labels.append('Exps')"
   ]
  },
  {
   "cell_type": "code",
   "execution_count": 59,
   "metadata": {},
   "outputs": [],
   "source": [
    "#plot_corr_matrix_tri(all_rs, all_labels)\n",
    "#if SAVE_FIG:\n",
    "#    plt.savefig('Corrs.pdf')"
   ]
  },
  {
   "cell_type": "code",
   "execution_count": 60,
   "metadata": {},
   "outputs": [],
   "source": [
    "corr_data = all_rs\n",
    "labels = all_labels"
   ]
  },
  {
   "cell_type": "code",
   "execution_count": 61,
   "metadata": {},
   "outputs": [
    {
     "data": {
      "image/png": "[encoded data removed]",
      "text/plain": [
       "<Figure size 432x288 with 2 Axes>"
      ]
     },
     "metadata": {
      "needs_background": "light"
     },
     "output_type": "display_data"
    }
   ],
   "source": [
    "# TEMP / HACK - MAKE & SAVE CORR-PLOT\n",
    "# Generate a mask for the upper triangle\n",
    "mask = np.zeros_like(corr_data, dtype=np.bool)\n",
    "mask[np.triu_indices_from(mask)] = True\n",
    "\n",
    "# Generate a custom diverging colormap\n",
    "cmap = sns.color_palette(\"coolwarm\", 7)\n",
    "\n",
    "# Draw the heatmap with the mask and correct aspect ratio\n",
    "sns.heatmap(corr_data, mask=mask, cmap=cmap, annot=True, square=True, annot_kws={\"size\":15},\n",
    "            vmin=-1, vmax=1, xticklabels=labels, yticklabels=labels)\n",
    "plt.savefig('corr.pdf')"
   ]
  },
  {
   "cell_type": "code",
   "execution_count": 63,
   "metadata": {},
   "outputs": [],
   "source": [
    "#plot_corr_matrix(all_rs, all_labels, save_out=SAVE_FIG)"
   ]
  }
 ],
 "metadata": {
  "kernelspec": {
   "display_name": "Python 3",
   "language": "python",
   "name": "python3"
  },
  "language_info": {
   "codemirror_mode": {
    "name": "ipython",
    "version": 3
   },
   "file_extension": ".py",
   "mimetype": "text/x-python",
   "name": "python",
   "nbconvert_exporter": "python",
   "pygments_lexer": "ipython3",
   "version": "3.7.4"
  }
 },
 "nbformat": 4,
 "nbformat_minor": 1
}
